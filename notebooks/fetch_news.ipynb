{
 "cells": [
  {
   "cell_type": "code",
   "execution_count": null,
   "metadata": {
    "collapsed": true
   },
   "outputs": [],
   "source": [
    "import json"
   ]
  },
  {
   "cell_type": "code",
   "execution_count": null,
   "outputs": [],
   "source": [
    "from newsapi import NewsApiClient\n",
    "\n",
    "with open('../config.json') as f:\n",
    "    config = json.load(f)\n",
    "    API_KEY = config['newsapi-key']\n",
    "\n",
    "\n",
    "newsapi = NewsApiClient(api_key=API_KEY)"
   ],
   "metadata": {
    "collapsed": false
   }
  },
  {
   "cell_type": "code",
   "execution_count": null,
   "outputs": [],
   "source": [
    "top_headlines = newsapi.get_top_headlines(q='',\n",
    "                                          language='en',\n",
    "                                          # sources='the-verge',\n",
    "                                          category='technology',\n",
    "                                          page_size=10,\n",
    "                                          page=1)"
   ],
   "metadata": {
    "collapsed": false
   }
  },
  {
   "cell_type": "code",
   "execution_count": null,
   "outputs": [],
   "source": [
    "from utils.article import Article\n",
    "\n",
    "article = Article(top_headlines['articles'][0])\n",
    "\n",
    "\n",
    "str(article), article.content"
   ],
   "metadata": {
    "collapsed": false
   }
  },
  {
   "cell_type": "code",
   "execution_count": null,
   "outputs": [],
   "source": [],
   "metadata": {
    "collapsed": false
   }
  }
 ],
 "metadata": {
  "kernelspec": {
   "display_name": "Python 3",
   "language": "python",
   "name": "python3"
  },
  "language_info": {
   "codemirror_mode": {
    "name": "ipython",
    "version": 2
   },
   "file_extension": ".py",
   "mimetype": "text/x-python",
   "name": "python",
   "nbconvert_exporter": "python",
   "pygments_lexer": "ipython2",
   "version": "2.7.6"
  }
 },
 "nbformat": 4,
 "nbformat_minor": 0
}
