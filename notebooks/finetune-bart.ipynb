{
 "cells": [
  {
   "cell_type": "code",
   "execution_count": 1,
   "outputs": [
    {
     "name": "stderr",
     "output_type": "stream",
     "text": [
      "C:\\Users\\Andrew\\PycharmProjects\\newsense\\venv\\Lib\\site-packages\\transformers\\generation_utils.py:24: FutureWarning: Importing `GenerationMixin` from `src/transformers/generation_utils.py` is deprecated and will be removed in Transformers v5. Import as `from transformers import GenerationMixin` instead.\n",
      "  warnings.warn(\n"
     ]
    }
   ],
   "source": [
    "from functools import partial\n",
    "\n",
    "from blurr.data.seq2seq.core import HF_Seq2SeqBeforeBatchTransform, HF_Seq2SeqBlock\n",
    "from blurr.modeling.core import HF_BaseModelWrapper, HF_BaseModelCallback\n",
    "from blurr.modeling.seq2seq.core import HF_Seq2SeqMetricsCallback, seq2seq_splitter\n",
    "from blurr.utils import BLURR\n",
    "from datasets import load_dataset\n",
    "from fastai.data.block import DataBlock\n",
    "from fastai.data.transforms import RandomSplitter\n",
    "from fastai.imports import noop\n",
    "from fastai.learner import Learner\n",
    "from fastai.losses import CrossEntropyLossFlat\n",
    "from fastai.optimizer import ranger\n",
    "from fastcore.transform import Pipeline\n",
    "from transformers import BartForConditionalGeneration"
   ],
   "metadata": {
    "collapsed": false,
    "ExecuteTime": {
     "start_time": "2023-05-07T14:17:10.791688Z",
     "end_time": "2023-05-07T14:17:14.834604Z"
    }
   }
  },
  {
   "cell_type": "code",
   "execution_count": 2,
   "outputs": [
    {
     "name": "stderr",
     "output_type": "stream",
     "text": [
      "Found cached dataset multi_news (C:/Users/Andrew/.cache/huggingface/datasets/multi_news/default/1.0.0/2f1f69a2bedc8ad1c5d8ae5148e4755ee7095f465c1c01ae8f85454342065a72)\n"
     ]
    }
   ],
   "source": [
    "dataset = load_dataset('../bart_large_cnn/multi_news', split='train',)\n",
    "\n",
    "pretrained_model = '../bart_large_cnn'\n",
    "hf_arch, hf_config, hf_tokenizer, hf_model = BLURR.get_hf_objects(pretrained_model,\n",
    "                                                                  model_cls=BartForConditionalGeneration)\n",
    "\n",
    "hf_batch_tfm = HF_Seq2SeqBeforeBatchTransform(hf_arch, hf_config, hf_tokenizer, hf_model,\n",
    "    task='summarization',\n",
    "    text_gen_kwargs=\n",
    " {'max_length': 248,'min_length': 56,'do_sample': False, 'early_stopping': True, 'num_beams': 4, 'temperature': 1.0,\n",
    "  'top_k': 50, 'top_p': 1.0, 'repetition_penalty': 1.0, 'bad_words_ids': None, 'bos_token_id': 0, 'pad_token_id': 1,\n",
    " 'eos_token_id': 2, 'length_penalty': 2.0, 'no_repeat_ngram_size': 3, 'encoder_no_repeat_ngram_size': 0,\n",
    " 'num_return_sequences': 1, 'decoder_start_token_id': 2, 'use_cache': True, 'num_beam_groups': 1,\n",
    " 'diversity_penalty': 0.0, 'output_attentions': False, 'output_hidden_states': False, 'output_scores': False,\n",
    " 'return_dict_in_generate': False, 'forced_bos_token_id': 0, 'forced_eos_token_id': 2, 'remove_invalid_values': False})"
   ],
   "metadata": {
    "collapsed": false,
    "ExecuteTime": {
     "start_time": "2023-05-07T14:17:14.836604Z",
     "end_time": "2023-05-07T14:17:17.786977Z"
    }
   }
  },
  {
   "cell_type": "code",
   "execution_count": 3,
   "outputs": [
    {
     "ename": "KeyboardInterrupt",
     "evalue": "",
     "output_type": "error",
     "traceback": [
      "\u001B[1;31m---------------------------------------------------------------------------\u001B[0m",
      "\u001B[1;31mKeyboardInterrupt\u001B[0m                         Traceback (most recent call last)",
      "Cell \u001B[1;32mIn[3], line 4\u001B[0m\n\u001B[0;32m      2\u001B[0m x \u001B[38;5;241m=\u001B[39m Pipeline(dataset[\u001B[38;5;124m\"\u001B[39m\u001B[38;5;124mdocument\u001B[39m\u001B[38;5;124m\"\u001B[39m], dataset[\u001B[38;5;124m\"\u001B[39m\u001B[38;5;124msummary\u001B[39m\u001B[38;5;124m\"\u001B[39m])\n\u001B[0;32m      3\u001B[0m dblock \u001B[38;5;241m=\u001B[39m DataBlock(blocks\u001B[38;5;241m=\u001B[39mblocks, get_x\u001B[38;5;241m=\u001B[39mx, splitter\u001B[38;5;241m=\u001B[39mRandomSplitter())\n\u001B[1;32m----> 4\u001B[0m dls \u001B[38;5;241m=\u001B[39m \u001B[43mdblock\u001B[49m\u001B[38;5;241;43m.\u001B[39;49m\u001B[43mdataloaders\u001B[49m\u001B[43m(\u001B[49m\u001B[43mdataset\u001B[49m\u001B[43m,\u001B[49m\u001B[43m \u001B[49m\u001B[43mbs\u001B[49m\u001B[38;5;241;43m=\u001B[39;49m\u001B[38;5;241;43m2\u001B[39;49m\u001B[43m)\u001B[49m\n",
      "File \u001B[1;32m~\\PycharmProjects\\newsense\\venv\\Lib\\site-packages\\fastai\\data\\block.py:155\u001B[0m, in \u001B[0;36mDataBlock.dataloaders\u001B[1;34m(self, source, path, verbose, **kwargs)\u001B[0m\n\u001B[0;32m    149\u001B[0m \u001B[38;5;28;01mdef\u001B[39;00m \u001B[38;5;21mdataloaders\u001B[39m(\u001B[38;5;28mself\u001B[39m, \n\u001B[0;32m    150\u001B[0m     source, \u001B[38;5;66;03m# The data source\u001B[39;00m\n\u001B[0;32m    151\u001B[0m     path:\u001B[38;5;28mstr\u001B[39m\u001B[38;5;241m=\u001B[39m\u001B[38;5;124m'\u001B[39m\u001B[38;5;124m.\u001B[39m\u001B[38;5;124m'\u001B[39m, \u001B[38;5;66;03m# Data source and default `Learner` path \u001B[39;00m\n\u001B[0;32m    152\u001B[0m     verbose:\u001B[38;5;28mbool\u001B[39m\u001B[38;5;241m=\u001B[39m\u001B[38;5;28;01mFalse\u001B[39;00m, \u001B[38;5;66;03m# Show verbose messages\u001B[39;00m\n\u001B[0;32m    153\u001B[0m     \u001B[38;5;241m*\u001B[39m\u001B[38;5;241m*\u001B[39mkwargs\n\u001B[0;32m    154\u001B[0m ) \u001B[38;5;241m-\u001B[39m\u001B[38;5;241m>\u001B[39m DataLoaders:\n\u001B[1;32m--> 155\u001B[0m     dsets \u001B[38;5;241m=\u001B[39m \u001B[38;5;28;43mself\u001B[39;49m\u001B[38;5;241;43m.\u001B[39;49m\u001B[43mdatasets\u001B[49m\u001B[43m(\u001B[49m\u001B[43msource\u001B[49m\u001B[43m,\u001B[49m\u001B[43m \u001B[49m\u001B[43mverbose\u001B[49m\u001B[38;5;241;43m=\u001B[39;49m\u001B[43mverbose\u001B[49m\u001B[43m)\u001B[49m\n\u001B[0;32m    156\u001B[0m     kwargs \u001B[38;5;241m=\u001B[39m {\u001B[38;5;241m*\u001B[39m\u001B[38;5;241m*\u001B[39m\u001B[38;5;28mself\u001B[39m\u001B[38;5;241m.\u001B[39mdls_kwargs, \u001B[38;5;241m*\u001B[39m\u001B[38;5;241m*\u001B[39mkwargs, \u001B[38;5;124m'\u001B[39m\u001B[38;5;124mverbose\u001B[39m\u001B[38;5;124m'\u001B[39m: verbose}\n\u001B[0;32m    157\u001B[0m     \u001B[38;5;28;01mreturn\u001B[39;00m dsets\u001B[38;5;241m.\u001B[39mdataloaders(path\u001B[38;5;241m=\u001B[39mpath, after_item\u001B[38;5;241m=\u001B[39m\u001B[38;5;28mself\u001B[39m\u001B[38;5;241m.\u001B[39mitem_tfms, after_batch\u001B[38;5;241m=\u001B[39m\u001B[38;5;28mself\u001B[39m\u001B[38;5;241m.\u001B[39mbatch_tfms, \u001B[38;5;241m*\u001B[39m\u001B[38;5;241m*\u001B[39mkwargs)\n",
      "File \u001B[1;32m~\\PycharmProjects\\newsense\\venv\\Lib\\site-packages\\fastai\\data\\block.py:147\u001B[0m, in \u001B[0;36mDataBlock.datasets\u001B[1;34m(self, source, verbose)\u001B[0m\n\u001B[0;32m    145\u001B[0m splits \u001B[38;5;241m=\u001B[39m (\u001B[38;5;28mself\u001B[39m\u001B[38;5;241m.\u001B[39msplitter \u001B[38;5;129;01mor\u001B[39;00m RandomSplitter())(items)\n\u001B[0;32m    146\u001B[0m pv(\u001B[38;5;124mf\u001B[39m\u001B[38;5;124m\"\u001B[39m\u001B[38;5;132;01m{\u001B[39;00m\u001B[38;5;28mlen\u001B[39m(splits)\u001B[38;5;132;01m}\u001B[39;00m\u001B[38;5;124m datasets of sizes \u001B[39m\u001B[38;5;132;01m{\u001B[39;00m\u001B[38;5;124m'\u001B[39m\u001B[38;5;124m,\u001B[39m\u001B[38;5;124m'\u001B[39m\u001B[38;5;241m.\u001B[39mjoin([\u001B[38;5;28mstr\u001B[39m(\u001B[38;5;28mlen\u001B[39m(s))\u001B[38;5;250m \u001B[39m\u001B[38;5;28;01mfor\u001B[39;00m\u001B[38;5;250m \u001B[39ms\u001B[38;5;250m \u001B[39m\u001B[38;5;129;01min\u001B[39;00m\u001B[38;5;250m \u001B[39msplits])\u001B[38;5;132;01m}\u001B[39;00m\u001B[38;5;124m\"\u001B[39m, verbose)\n\u001B[1;32m--> 147\u001B[0m \u001B[38;5;28;01mreturn\u001B[39;00m \u001B[43mDatasets\u001B[49m\u001B[43m(\u001B[49m\u001B[43mitems\u001B[49m\u001B[43m,\u001B[49m\u001B[43m \u001B[49m\u001B[43mtfms\u001B[49m\u001B[38;5;241;43m=\u001B[39;49m\u001B[38;5;28;43mself\u001B[39;49m\u001B[38;5;241;43m.\u001B[39;49m\u001B[43m_combine_type_tfms\u001B[49m\u001B[43m(\u001B[49m\u001B[43m)\u001B[49m\u001B[43m,\u001B[49m\u001B[43m \u001B[49m\u001B[43msplits\u001B[49m\u001B[38;5;241;43m=\u001B[39;49m\u001B[43msplits\u001B[49m\u001B[43m,\u001B[49m\u001B[43m \u001B[49m\u001B[43mdl_type\u001B[49m\u001B[38;5;241;43m=\u001B[39;49m\u001B[38;5;28;43mself\u001B[39;49m\u001B[38;5;241;43m.\u001B[39;49m\u001B[43mdl_type\u001B[49m\u001B[43m,\u001B[49m\u001B[43m \u001B[49m\u001B[43mn_inp\u001B[49m\u001B[38;5;241;43m=\u001B[39;49m\u001B[38;5;28;43mself\u001B[39;49m\u001B[38;5;241;43m.\u001B[39;49m\u001B[43mn_inp\u001B[49m\u001B[43m,\u001B[49m\u001B[43m \u001B[49m\u001B[43mverbose\u001B[49m\u001B[38;5;241;43m=\u001B[39;49m\u001B[43mverbose\u001B[49m\u001B[43m)\u001B[49m\n",
      "File \u001B[1;32m~\\PycharmProjects\\newsense\\venv\\Lib\\site-packages\\fastai\\data\\core.py:454\u001B[0m, in \u001B[0;36mDatasets.__init__\u001B[1;34m(self, items, tfms, tls, n_inp, dl_type, **kwargs)\u001B[0m\n\u001B[0;32m    445\u001B[0m \u001B[38;5;28;01mdef\u001B[39;00m \u001B[38;5;21m__init__\u001B[39m(\u001B[38;5;28mself\u001B[39m, \n\u001B[0;32m    446\u001B[0m     items:\u001B[38;5;28mlist\u001B[39m\u001B[38;5;241m=\u001B[39m\u001B[38;5;28;01mNone\u001B[39;00m, \u001B[38;5;66;03m# List of items to create `Datasets`\u001B[39;00m\n\u001B[0;32m    447\u001B[0m     tfms:MutableSequence\u001B[38;5;241m|\u001B[39mPipeline\u001B[38;5;241m=\u001B[39m\u001B[38;5;28;01mNone\u001B[39;00m, \u001B[38;5;66;03m# List of `Transform`(s) or `Pipeline` to apply\u001B[39;00m\n\u001B[1;32m   (...)\u001B[0m\n\u001B[0;32m    451\u001B[0m     \u001B[38;5;241m*\u001B[39m\u001B[38;5;241m*\u001B[39mkwargs\n\u001B[0;32m    452\u001B[0m ):\n\u001B[0;32m    453\u001B[0m     \u001B[38;5;28msuper\u001B[39m()\u001B[38;5;241m.\u001B[39m\u001B[38;5;21m__init__\u001B[39m(dl_type\u001B[38;5;241m=\u001B[39mdl_type)\n\u001B[1;32m--> 454\u001B[0m     \u001B[38;5;28mself\u001B[39m\u001B[38;5;241m.\u001B[39mtls \u001B[38;5;241m=\u001B[39m L(tls \u001B[38;5;28;01mif\u001B[39;00m tls \u001B[38;5;28;01melse\u001B[39;00m \u001B[43m[\u001B[49m\u001B[43mTfmdLists\u001B[49m\u001B[43m(\u001B[49m\u001B[43mitems\u001B[49m\u001B[43m,\u001B[49m\u001B[43m \u001B[49m\u001B[43mt\u001B[49m\u001B[43m,\u001B[49m\u001B[43m \u001B[49m\u001B[38;5;241;43m*\u001B[39;49m\u001B[38;5;241;43m*\u001B[39;49m\u001B[43mkwargs\u001B[49m\u001B[43m)\u001B[49m\u001B[43m \u001B[49m\u001B[38;5;28;43;01mfor\u001B[39;49;00m\u001B[43m \u001B[49m\u001B[43mt\u001B[49m\u001B[43m \u001B[49m\u001B[38;5;129;43;01min\u001B[39;49;00m\u001B[43m \u001B[49m\u001B[43mL\u001B[49m\u001B[43m(\u001B[49m\u001B[43mifnone\u001B[49m\u001B[43m(\u001B[49m\u001B[43mtfms\u001B[49m\u001B[43m,\u001B[49m\u001B[43m[\u001B[49m\u001B[38;5;28;43;01mNone\u001B[39;49;00m\u001B[43m]\u001B[49m\u001B[43m)\u001B[49m\u001B[43m)\u001B[49m\u001B[43m]\u001B[49m)\n\u001B[0;32m    455\u001B[0m     \u001B[38;5;28mself\u001B[39m\u001B[38;5;241m.\u001B[39mn_inp \u001B[38;5;241m=\u001B[39m ifnone(n_inp, \u001B[38;5;28mmax\u001B[39m(\u001B[38;5;241m1\u001B[39m, \u001B[38;5;28mlen\u001B[39m(\u001B[38;5;28mself\u001B[39m\u001B[38;5;241m.\u001B[39mtls)\u001B[38;5;241m-\u001B[39m\u001B[38;5;241m1\u001B[39m))\n",
      "File \u001B[1;32m~\\PycharmProjects\\newsense\\venv\\Lib\\site-packages\\fastai\\data\\core.py:454\u001B[0m, in \u001B[0;36m<listcomp>\u001B[1;34m(.0)\u001B[0m\n\u001B[0;32m    445\u001B[0m \u001B[38;5;28;01mdef\u001B[39;00m \u001B[38;5;21m__init__\u001B[39m(\u001B[38;5;28mself\u001B[39m, \n\u001B[0;32m    446\u001B[0m     items:\u001B[38;5;28mlist\u001B[39m\u001B[38;5;241m=\u001B[39m\u001B[38;5;28;01mNone\u001B[39;00m, \u001B[38;5;66;03m# List of items to create `Datasets`\u001B[39;00m\n\u001B[0;32m    447\u001B[0m     tfms:MutableSequence\u001B[38;5;241m|\u001B[39mPipeline\u001B[38;5;241m=\u001B[39m\u001B[38;5;28;01mNone\u001B[39;00m, \u001B[38;5;66;03m# List of `Transform`(s) or `Pipeline` to apply\u001B[39;00m\n\u001B[1;32m   (...)\u001B[0m\n\u001B[0;32m    451\u001B[0m     \u001B[38;5;241m*\u001B[39m\u001B[38;5;241m*\u001B[39mkwargs\n\u001B[0;32m    452\u001B[0m ):\n\u001B[0;32m    453\u001B[0m     \u001B[38;5;28msuper\u001B[39m()\u001B[38;5;241m.\u001B[39m\u001B[38;5;21m__init__\u001B[39m(dl_type\u001B[38;5;241m=\u001B[39mdl_type)\n\u001B[1;32m--> 454\u001B[0m     \u001B[38;5;28mself\u001B[39m\u001B[38;5;241m.\u001B[39mtls \u001B[38;5;241m=\u001B[39m L(tls \u001B[38;5;28;01mif\u001B[39;00m tls \u001B[38;5;28;01melse\u001B[39;00m [\u001B[43mTfmdLists\u001B[49m\u001B[43m(\u001B[49m\u001B[43mitems\u001B[49m\u001B[43m,\u001B[49m\u001B[43m \u001B[49m\u001B[43mt\u001B[49m\u001B[43m,\u001B[49m\u001B[43m \u001B[49m\u001B[38;5;241;43m*\u001B[39;49m\u001B[38;5;241;43m*\u001B[39;49m\u001B[43mkwargs\u001B[49m\u001B[43m)\u001B[49m \u001B[38;5;28;01mfor\u001B[39;00m t \u001B[38;5;129;01min\u001B[39;00m L(ifnone(tfms,[\u001B[38;5;28;01mNone\u001B[39;00m]))])\n\u001B[0;32m    455\u001B[0m     \u001B[38;5;28mself\u001B[39m\u001B[38;5;241m.\u001B[39mn_inp \u001B[38;5;241m=\u001B[39m ifnone(n_inp, \u001B[38;5;28mmax\u001B[39m(\u001B[38;5;241m1\u001B[39m, \u001B[38;5;28mlen\u001B[39m(\u001B[38;5;28mself\u001B[39m\u001B[38;5;241m.\u001B[39mtls)\u001B[38;5;241m-\u001B[39m\u001B[38;5;241m1\u001B[39m))\n",
      "File \u001B[1;32m~\\PycharmProjects\\newsense\\venv\\Lib\\site-packages\\fastcore\\foundation.py:98\u001B[0m, in \u001B[0;36m_L_Meta.__call__\u001B[1;34m(cls, x, *args, **kwargs)\u001B[0m\n\u001B[0;32m     96\u001B[0m \u001B[38;5;28;01mdef\u001B[39;00m \u001B[38;5;21m__call__\u001B[39m(\u001B[38;5;28mcls\u001B[39m, x\u001B[38;5;241m=\u001B[39m\u001B[38;5;28;01mNone\u001B[39;00m, \u001B[38;5;241m*\u001B[39margs, \u001B[38;5;241m*\u001B[39m\u001B[38;5;241m*\u001B[39mkwargs):\n\u001B[0;32m     97\u001B[0m     \u001B[38;5;28;01mif\u001B[39;00m \u001B[38;5;129;01mnot\u001B[39;00m args \u001B[38;5;129;01mand\u001B[39;00m \u001B[38;5;129;01mnot\u001B[39;00m kwargs \u001B[38;5;129;01mand\u001B[39;00m x \u001B[38;5;129;01mis\u001B[39;00m \u001B[38;5;129;01mnot\u001B[39;00m \u001B[38;5;28;01mNone\u001B[39;00m \u001B[38;5;129;01mand\u001B[39;00m \u001B[38;5;28misinstance\u001B[39m(x,\u001B[38;5;28mcls\u001B[39m): \u001B[38;5;28;01mreturn\u001B[39;00m x\n\u001B[1;32m---> 98\u001B[0m     \u001B[38;5;28;01mreturn\u001B[39;00m \u001B[38;5;28;43msuper\u001B[39;49m\u001B[43m(\u001B[49m\u001B[43m)\u001B[49m\u001B[38;5;241;43m.\u001B[39;49m\u001B[38;5;21;43m__call__\u001B[39;49m\u001B[43m(\u001B[49m\u001B[43mx\u001B[49m\u001B[43m,\u001B[49m\u001B[43m \u001B[49m\u001B[38;5;241;43m*\u001B[39;49m\u001B[43margs\u001B[49m\u001B[43m,\u001B[49m\u001B[43m \u001B[49m\u001B[38;5;241;43m*\u001B[39;49m\u001B[38;5;241;43m*\u001B[39;49m\u001B[43mkwargs\u001B[49m\u001B[43m)\u001B[49m\n",
      "File \u001B[1;32m~\\PycharmProjects\\newsense\\venv\\Lib\\site-packages\\fastai\\data\\core.py:368\u001B[0m, in \u001B[0;36mTfmdLists.__init__\u001B[1;34m(self, items, tfms, use_list, do_setup, split_idx, train_setup, splits, types, verbose, dl_type)\u001B[0m\n\u001B[0;32m    366\u001B[0m \u001B[38;5;28;01mif\u001B[39;00m do_setup:\n\u001B[0;32m    367\u001B[0m     pv(\u001B[38;5;124mf\u001B[39m\u001B[38;5;124m\"\u001B[39m\u001B[38;5;124mSetting up \u001B[39m\u001B[38;5;132;01m{\u001B[39;00m\u001B[38;5;28mself\u001B[39m\u001B[38;5;241m.\u001B[39mtfms\u001B[38;5;132;01m}\u001B[39;00m\u001B[38;5;124m\"\u001B[39m, verbose)\n\u001B[1;32m--> 368\u001B[0m     \u001B[38;5;28;43mself\u001B[39;49m\u001B[38;5;241;43m.\u001B[39;49m\u001B[43msetup\u001B[49m\u001B[43m(\u001B[49m\u001B[43mtrain_setup\u001B[49m\u001B[38;5;241;43m=\u001B[39;49m\u001B[43mtrain_setup\u001B[49m\u001B[43m)\u001B[49m\n",
      "File \u001B[1;32m~\\PycharmProjects\\newsense\\venv\\Lib\\site-packages\\fastai\\data\\core.py:389\u001B[0m, in \u001B[0;36mTfmdLists.setup\u001B[1;34m(self, train_setup)\u001B[0m\n\u001B[0;32m    386\u001B[0m \u001B[38;5;28;01mdef\u001B[39;00m \u001B[38;5;21msetup\u001B[39m(\u001B[38;5;28mself\u001B[39m, \n\u001B[0;32m    387\u001B[0m     train_setup:\u001B[38;5;28mbool\u001B[39m\u001B[38;5;241m=\u001B[39m\u001B[38;5;28;01mTrue\u001B[39;00m \u001B[38;5;66;03m# Apply `Transform`(s) only on training `DataLoader`\u001B[39;00m\n\u001B[0;32m    388\u001B[0m ):\n\u001B[1;32m--> 389\u001B[0m     \u001B[38;5;28;43mself\u001B[39;49m\u001B[38;5;241;43m.\u001B[39;49m\u001B[43mtfms\u001B[49m\u001B[38;5;241;43m.\u001B[39;49m\u001B[43msetup\u001B[49m\u001B[43m(\u001B[49m\u001B[38;5;28;43mself\u001B[39;49m\u001B[43m,\u001B[49m\u001B[43m \u001B[49m\u001B[43mtrain_setup\u001B[49m\u001B[43m)\u001B[49m\n\u001B[0;32m    390\u001B[0m     \u001B[38;5;28;01mif\u001B[39;00m \u001B[38;5;28mlen\u001B[39m(\u001B[38;5;28mself\u001B[39m) \u001B[38;5;241m!=\u001B[39m \u001B[38;5;241m0\u001B[39m:\n\u001B[0;32m    391\u001B[0m         x \u001B[38;5;241m=\u001B[39m \u001B[38;5;28msuper\u001B[39m()\u001B[38;5;241m.\u001B[39m\u001B[38;5;21m__getitem__\u001B[39m(\u001B[38;5;241m0\u001B[39m) \u001B[38;5;28;01mif\u001B[39;00m \u001B[38;5;28mself\u001B[39m\u001B[38;5;241m.\u001B[39msplits \u001B[38;5;129;01mis\u001B[39;00m \u001B[38;5;28;01mNone\u001B[39;00m \u001B[38;5;28;01melse\u001B[39;00m \u001B[38;5;28msuper\u001B[39m()\u001B[38;5;241m.\u001B[39m\u001B[38;5;21m__getitem__\u001B[39m(\u001B[38;5;28mself\u001B[39m\u001B[38;5;241m.\u001B[39msplits[\u001B[38;5;241m0\u001B[39m])[\u001B[38;5;241m0\u001B[39m]\n",
      "File \u001B[1;32m~\\PycharmProjects\\newsense\\venv\\Lib\\site-packages\\fastcore\\transform.py:200\u001B[0m, in \u001B[0;36mPipeline.setup\u001B[1;34m(self, items, train_setup)\u001B[0m\n\u001B[0;32m    198\u001B[0m tfms \u001B[38;5;241m=\u001B[39m \u001B[38;5;28mself\u001B[39m\u001B[38;5;241m.\u001B[39mfs[:]\n\u001B[0;32m    199\u001B[0m \u001B[38;5;28mself\u001B[39m\u001B[38;5;241m.\u001B[39mfs\u001B[38;5;241m.\u001B[39mclear()\n\u001B[1;32m--> 200\u001B[0m \u001B[38;5;28;01mfor\u001B[39;00m t \u001B[38;5;129;01min\u001B[39;00m tfms: \u001B[38;5;28;43mself\u001B[39;49m\u001B[38;5;241;43m.\u001B[39;49m\u001B[43madd\u001B[49m\u001B[43m(\u001B[49m\u001B[43mt\u001B[49m\u001B[43m,\u001B[49m\u001B[43mitems\u001B[49m\u001B[43m,\u001B[49m\u001B[43m \u001B[49m\u001B[43mtrain_setup\u001B[49m\u001B[43m)\u001B[49m\n",
      "File \u001B[1;32m~\\PycharmProjects\\newsense\\venv\\Lib\\site-packages\\fastcore\\transform.py:204\u001B[0m, in \u001B[0;36mPipeline.add\u001B[1;34m(self, ts, items, train_setup)\u001B[0m\n\u001B[0;32m    202\u001B[0m \u001B[38;5;28;01mdef\u001B[39;00m \u001B[38;5;21madd\u001B[39m(\u001B[38;5;28mself\u001B[39m,ts, items\u001B[38;5;241m=\u001B[39m\u001B[38;5;28;01mNone\u001B[39;00m, train_setup\u001B[38;5;241m=\u001B[39m\u001B[38;5;28;01mFalse\u001B[39;00m):\n\u001B[0;32m    203\u001B[0m     \u001B[38;5;28;01mif\u001B[39;00m \u001B[38;5;129;01mnot\u001B[39;00m is_listy(ts): ts\u001B[38;5;241m=\u001B[39m[ts]\n\u001B[1;32m--> 204\u001B[0m     \u001B[38;5;28;01mfor\u001B[39;00m t \u001B[38;5;129;01min\u001B[39;00m ts: \u001B[43mt\u001B[49m\u001B[38;5;241;43m.\u001B[39;49m\u001B[43msetup\u001B[49m\u001B[43m(\u001B[49m\u001B[43mitems\u001B[49m\u001B[43m,\u001B[49m\u001B[43m \u001B[49m\u001B[43mtrain_setup\u001B[49m\u001B[43m)\u001B[49m\n\u001B[0;32m    205\u001B[0m     \u001B[38;5;28mself\u001B[39m\u001B[38;5;241m.\u001B[39mfs\u001B[38;5;241m+\u001B[39m\u001B[38;5;241m=\u001B[39mts\n\u001B[0;32m    206\u001B[0m     \u001B[38;5;28mself\u001B[39m\u001B[38;5;241m.\u001B[39mfs \u001B[38;5;241m=\u001B[39m \u001B[38;5;28mself\u001B[39m\u001B[38;5;241m.\u001B[39mfs\u001B[38;5;241m.\u001B[39msorted(key\u001B[38;5;241m=\u001B[39m\u001B[38;5;124m'\u001B[39m\u001B[38;5;124morder\u001B[39m\u001B[38;5;124m'\u001B[39m)\n",
      "File \u001B[1;32m~\\PycharmProjects\\newsense\\venv\\Lib\\site-packages\\fastcore\\transform.py:87\u001B[0m, in \u001B[0;36mTransform.setup\u001B[1;34m(self, items, train_setup)\u001B[0m\n\u001B[0;32m     85\u001B[0m \u001B[38;5;28;01mdef\u001B[39;00m \u001B[38;5;21msetup\u001B[39m(\u001B[38;5;28mself\u001B[39m, items\u001B[38;5;241m=\u001B[39m\u001B[38;5;28;01mNone\u001B[39;00m, train_setup\u001B[38;5;241m=\u001B[39m\u001B[38;5;28;01mFalse\u001B[39;00m):\n\u001B[0;32m     86\u001B[0m     train_setup \u001B[38;5;241m=\u001B[39m train_setup \u001B[38;5;28;01mif\u001B[39;00m \u001B[38;5;28mself\u001B[39m\u001B[38;5;241m.\u001B[39mtrain_setup \u001B[38;5;129;01mis\u001B[39;00m \u001B[38;5;28;01mNone\u001B[39;00m \u001B[38;5;28;01melse\u001B[39;00m \u001B[38;5;28mself\u001B[39m\u001B[38;5;241m.\u001B[39mtrain_setup\n\u001B[1;32m---> 87\u001B[0m     \u001B[38;5;28;01mreturn\u001B[39;00m \u001B[38;5;28mself\u001B[39m\u001B[38;5;241m.\u001B[39msetups(\u001B[38;5;28mgetattr\u001B[39m(items, \u001B[38;5;124m'\u001B[39m\u001B[38;5;124mtrain\u001B[39m\u001B[38;5;124m'\u001B[39m, items) \u001B[38;5;28;01mif\u001B[39;00m train_setup \u001B[38;5;28;01melse\u001B[39;00m items)\n",
      "File \u001B[1;32m~\\PycharmProjects\\newsense\\venv\\Lib\\site-packages\\fastai\\data\\core.py:341\u001B[0m, in \u001B[0;36m<lambda>\u001B[1;34m(i, x)\u001B[0m\n\u001B[0;32m    337\u001B[0m         dls \u001B[38;5;241m=\u001B[39m [dl] \u001B[38;5;241m+\u001B[39m [dl\u001B[38;5;241m.\u001B[39mnew(\u001B[38;5;28mself\u001B[39m\u001B[38;5;241m.\u001B[39msubset(i), \u001B[38;5;241m*\u001B[39m\u001B[38;5;241m*\u001B[39mmerge(kwargs,def_kwargs,val_kwargs,dl_kwargs[i]))\n\u001B[0;32m    338\u001B[0m                       \u001B[38;5;28;01mfor\u001B[39;00m i \u001B[38;5;129;01min\u001B[39;00m \u001B[38;5;28mrange\u001B[39m(\u001B[38;5;241m1\u001B[39m, \u001B[38;5;28mself\u001B[39m\u001B[38;5;241m.\u001B[39mn_subsets)]\n\u001B[0;32m    339\u001B[0m         \u001B[38;5;28;01mreturn\u001B[39;00m \u001B[38;5;28mself\u001B[39m\u001B[38;5;241m.\u001B[39m_dbunch_type(\u001B[38;5;241m*\u001B[39mdls, path\u001B[38;5;241m=\u001B[39mpath, device\u001B[38;5;241m=\u001B[39mdevice)    \n\u001B[1;32m--> 341\u001B[0m FilteredBase\u001B[38;5;241m.\u001B[39mtrain,FilteredBase\u001B[38;5;241m.\u001B[39mvalid \u001B[38;5;241m=\u001B[39m add_props(\u001B[38;5;28;01mlambda\u001B[39;00m i,x: \u001B[43mx\u001B[49m\u001B[38;5;241;43m.\u001B[39;49m\u001B[43msubset\u001B[49m\u001B[43m(\u001B[49m\u001B[43mi\u001B[49m\u001B[43m)\u001B[49m)\n\u001B[0;32m    343\u001B[0m \u001B[38;5;66;03m# %% ../../nbs/03_data.core.ipynb 52\u001B[39;00m\n\u001B[0;32m    344\u001B[0m \u001B[38;5;28;01mclass\u001B[39;00m \u001B[38;5;21;01mTfmdLists\u001B[39;00m(FilteredBase, L, GetAttr):\n",
      "File \u001B[1;32m~\\PycharmProjects\\newsense\\venv\\Lib\\site-packages\\fastai\\data\\core.py:376\u001B[0m, in \u001B[0;36mTfmdLists.subset\u001B[1;34m(self, i)\u001B[0m\n\u001B[1;32m--> 376\u001B[0m \u001B[38;5;28;01mdef\u001B[39;00m \u001B[38;5;21msubset\u001B[39m(\u001B[38;5;28mself\u001B[39m, i): \u001B[38;5;28;01mreturn\u001B[39;00m \u001B[38;5;28;43mself\u001B[39;49m\u001B[38;5;241;43m.\u001B[39;49m\u001B[43m_new\u001B[49m\u001B[43m(\u001B[49m\u001B[38;5;28;43mself\u001B[39;49m\u001B[38;5;241;43m.\u001B[39;49m\u001B[43m_get\u001B[49m\u001B[43m(\u001B[49m\u001B[38;5;28;43mself\u001B[39;49m\u001B[38;5;241;43m.\u001B[39;49m\u001B[43msplits\u001B[49m\u001B[43m[\u001B[49m\u001B[43mi\u001B[49m\u001B[43m]\u001B[49m\u001B[43m)\u001B[49m\u001B[43m,\u001B[49m\u001B[43m \u001B[49m\u001B[43msplit_idx\u001B[49m\u001B[38;5;241;43m=\u001B[39;49m\u001B[43mi\u001B[49m\u001B[43m)\u001B[49m\n",
      "File \u001B[1;32m~\\PycharmProjects\\newsense\\venv\\Lib\\site-packages\\fastai\\data\\core.py:372\u001B[0m, in \u001B[0;36mTfmdLists._new\u001B[1;34m(self, items, split_idx, **kwargs)\u001B[0m\n\u001B[0;32m    370\u001B[0m \u001B[38;5;28;01mdef\u001B[39;00m \u001B[38;5;21m_new\u001B[39m(\u001B[38;5;28mself\u001B[39m, items, split_idx\u001B[38;5;241m=\u001B[39m\u001B[38;5;28;01mNone\u001B[39;00m, \u001B[38;5;241m*\u001B[39m\u001B[38;5;241m*\u001B[39mkwargs):\n\u001B[0;32m    371\u001B[0m     split_idx \u001B[38;5;241m=\u001B[39m ifnone(split_idx,\u001B[38;5;28mself\u001B[39m\u001B[38;5;241m.\u001B[39msplit_idx)\n\u001B[1;32m--> 372\u001B[0m     \u001B[38;5;28;01mtry\u001B[39;00m: \u001B[38;5;28;01mreturn\u001B[39;00m \u001B[38;5;28;43msuper\u001B[39;49m\u001B[43m(\u001B[49m\u001B[43m)\u001B[49m\u001B[38;5;241;43m.\u001B[39;49m\u001B[43m_new\u001B[49m\u001B[43m(\u001B[49m\u001B[43mitems\u001B[49m\u001B[43m,\u001B[49m\u001B[43m \u001B[49m\u001B[43mtfms\u001B[49m\u001B[38;5;241;43m=\u001B[39;49m\u001B[38;5;28;43mself\u001B[39;49m\u001B[38;5;241;43m.\u001B[39;49m\u001B[43mtfms\u001B[49m\u001B[43m,\u001B[49m\u001B[43m \u001B[49m\u001B[43mdo_setup\u001B[49m\u001B[38;5;241;43m=\u001B[39;49m\u001B[38;5;28;43;01mFalse\u001B[39;49;00m\u001B[43m,\u001B[49m\u001B[43m \u001B[49m\u001B[43mtypes\u001B[49m\u001B[38;5;241;43m=\u001B[39;49m\u001B[38;5;28;43mself\u001B[39;49m\u001B[38;5;241;43m.\u001B[39;49m\u001B[43mtypes\u001B[49m\u001B[43m,\u001B[49m\u001B[43m \u001B[49m\u001B[43msplit_idx\u001B[49m\u001B[38;5;241;43m=\u001B[39;49m\u001B[43msplit_idx\u001B[49m\u001B[43m,\u001B[49m\u001B[43m \u001B[49m\u001B[38;5;241;43m*\u001B[39;49m\u001B[38;5;241;43m*\u001B[39;49m\u001B[43mkwargs\u001B[49m\u001B[43m)\u001B[49m\n\u001B[0;32m    373\u001B[0m     \u001B[38;5;28;01mexcept\u001B[39;00m \u001B[38;5;167;01mIndexError\u001B[39;00m \u001B[38;5;28;01mas\u001B[39;00m e:\n\u001B[0;32m    374\u001B[0m         e\u001B[38;5;241m.\u001B[39margs \u001B[38;5;241m=\u001B[39m [\u001B[38;5;124mf\u001B[39m\u001B[38;5;124m\"\u001B[39m\u001B[38;5;124mTried to grab subset \u001B[39m\u001B[38;5;132;01m{\u001B[39;00mi\u001B[38;5;132;01m}\u001B[39;00m\u001B[38;5;124m in the Dataset, but it contained no items.\u001B[39m\u001B[38;5;130;01m\\n\u001B[39;00m\u001B[38;5;130;01m\\t\u001B[39;00m\u001B[38;5;132;01m{\u001B[39;00me\u001B[38;5;241m.\u001B[39margs[\u001B[38;5;241m0\u001B[39m]\u001B[38;5;132;01m}\u001B[39;00m\u001B[38;5;124m\"\u001B[39m]\n",
      "File \u001B[1;32m~\\PycharmProjects\\newsense\\venv\\Lib\\site-packages\\fastai\\data\\core.py:309\u001B[0m, in \u001B[0;36mFilteredBase._new\u001B[1;34m(self, items, **kwargs)\u001B[0m\n\u001B[1;32m--> 309\u001B[0m \u001B[38;5;28;01mdef\u001B[39;00m \u001B[38;5;21m_new\u001B[39m(\u001B[38;5;28mself\u001B[39m, items, \u001B[38;5;241m*\u001B[39m\u001B[38;5;241m*\u001B[39mkwargs): \u001B[38;5;28;01mreturn\u001B[39;00m \u001B[38;5;28;43msuper\u001B[39;49m\u001B[43m(\u001B[49m\u001B[43m)\u001B[49m\u001B[38;5;241;43m.\u001B[39;49m\u001B[43m_new\u001B[49m\u001B[43m(\u001B[49m\u001B[43mitems\u001B[49m\u001B[43m,\u001B[49m\u001B[43m \u001B[49m\u001B[43msplits\u001B[49m\u001B[38;5;241;43m=\u001B[39;49m\u001B[38;5;28;43mself\u001B[39;49m\u001B[38;5;241;43m.\u001B[39;49m\u001B[43msplits\u001B[49m\u001B[43m,\u001B[49m\u001B[43m \u001B[49m\u001B[38;5;241;43m*\u001B[39;49m\u001B[38;5;241;43m*\u001B[39;49m\u001B[43mkwargs\u001B[49m\u001B[43m)\u001B[49m\n",
      "File \u001B[1;32m~\\PycharmProjects\\newsense\\venv\\Lib\\site-packages\\fastcore\\foundation.py:111\u001B[0m, in \u001B[0;36mL._new\u001B[1;34m(self, items, *args, **kwargs)\u001B[0m\n\u001B[1;32m--> 111\u001B[0m \u001B[38;5;28;01mdef\u001B[39;00m \u001B[38;5;21m_new\u001B[39m(\u001B[38;5;28mself\u001B[39m, items, \u001B[38;5;241m*\u001B[39margs, \u001B[38;5;241m*\u001B[39m\u001B[38;5;241m*\u001B[39mkwargs): \u001B[38;5;28;01mreturn\u001B[39;00m \u001B[38;5;28;43mtype\u001B[39;49m\u001B[43m(\u001B[49m\u001B[38;5;28;43mself\u001B[39;49m\u001B[43m)\u001B[49m\u001B[43m(\u001B[49m\u001B[43mitems\u001B[49m\u001B[43m,\u001B[49m\u001B[43m \u001B[49m\u001B[38;5;241;43m*\u001B[39;49m\u001B[43margs\u001B[49m\u001B[43m,\u001B[49m\u001B[43m \u001B[49m\u001B[43muse_list\u001B[49m\u001B[38;5;241;43m=\u001B[39;49m\u001B[38;5;28;43;01mNone\u001B[39;49;00m\u001B[43m,\u001B[49m\u001B[43m \u001B[49m\u001B[38;5;241;43m*\u001B[39;49m\u001B[38;5;241;43m*\u001B[39;49m\u001B[43mkwargs\u001B[49m\u001B[43m)\u001B[49m\n",
      "File \u001B[1;32m~\\PycharmProjects\\newsense\\venv\\Lib\\site-packages\\fastcore\\foundation.py:98\u001B[0m, in \u001B[0;36m_L_Meta.__call__\u001B[1;34m(cls, x, *args, **kwargs)\u001B[0m\n\u001B[0;32m     96\u001B[0m \u001B[38;5;28;01mdef\u001B[39;00m \u001B[38;5;21m__call__\u001B[39m(\u001B[38;5;28mcls\u001B[39m, x\u001B[38;5;241m=\u001B[39m\u001B[38;5;28;01mNone\u001B[39;00m, \u001B[38;5;241m*\u001B[39margs, \u001B[38;5;241m*\u001B[39m\u001B[38;5;241m*\u001B[39mkwargs):\n\u001B[0;32m     97\u001B[0m     \u001B[38;5;28;01mif\u001B[39;00m \u001B[38;5;129;01mnot\u001B[39;00m args \u001B[38;5;129;01mand\u001B[39;00m \u001B[38;5;129;01mnot\u001B[39;00m kwargs \u001B[38;5;129;01mand\u001B[39;00m x \u001B[38;5;129;01mis\u001B[39;00m \u001B[38;5;129;01mnot\u001B[39;00m \u001B[38;5;28;01mNone\u001B[39;00m \u001B[38;5;129;01mand\u001B[39;00m \u001B[38;5;28misinstance\u001B[39m(x,\u001B[38;5;28mcls\u001B[39m): \u001B[38;5;28;01mreturn\u001B[39;00m x\n\u001B[1;32m---> 98\u001B[0m     \u001B[38;5;28;01mreturn\u001B[39;00m \u001B[38;5;28;43msuper\u001B[39;49m\u001B[43m(\u001B[49m\u001B[43m)\u001B[49m\u001B[38;5;241;43m.\u001B[39;49m\u001B[38;5;21;43m__call__\u001B[39;49m\u001B[43m(\u001B[49m\u001B[43mx\u001B[49m\u001B[43m,\u001B[49m\u001B[43m \u001B[49m\u001B[38;5;241;43m*\u001B[39;49m\u001B[43margs\u001B[49m\u001B[43m,\u001B[49m\u001B[43m \u001B[49m\u001B[38;5;241;43m*\u001B[39;49m\u001B[38;5;241;43m*\u001B[39;49m\u001B[43mkwargs\u001B[49m\u001B[43m)\u001B[49m\n",
      "File \u001B[1;32m~\\PycharmProjects\\newsense\\venv\\Lib\\site-packages\\fastai\\data\\core.py:364\u001B[0m, in \u001B[0;36mTfmdLists.__init__\u001B[1;34m(self, items, tfms, use_list, do_setup, split_idx, train_setup, splits, types, verbose, dl_type)\u001B[0m\n\u001B[0;32m    362\u001B[0m \u001B[38;5;28;01mif\u001B[39;00m \u001B[38;5;28misinstance\u001B[39m(tfms,TfmdLists): tfms \u001B[38;5;241m=\u001B[39m tfms\u001B[38;5;241m.\u001B[39mtfms\n\u001B[0;32m    363\u001B[0m \u001B[38;5;28;01mif\u001B[39;00m \u001B[38;5;28misinstance\u001B[39m(tfms,Pipeline): do_setup\u001B[38;5;241m=\u001B[39m\u001B[38;5;28;01mFalse\u001B[39;00m\n\u001B[1;32m--> 364\u001B[0m \u001B[38;5;28mself\u001B[39m\u001B[38;5;241m.\u001B[39mtfms \u001B[38;5;241m=\u001B[39m \u001B[43mPipeline\u001B[49m\u001B[43m(\u001B[49m\u001B[43mtfms\u001B[49m\u001B[43m,\u001B[49m\u001B[43m \u001B[49m\u001B[43msplit_idx\u001B[49m\u001B[38;5;241;43m=\u001B[39;49m\u001B[43msplit_idx\u001B[49m\u001B[43m)\u001B[49m\n\u001B[0;32m    365\u001B[0m store_attr(\u001B[38;5;124m'\u001B[39m\u001B[38;5;124mtypes,split_idx\u001B[39m\u001B[38;5;124m'\u001B[39m)\n\u001B[0;32m    366\u001B[0m \u001B[38;5;28;01mif\u001B[39;00m do_setup:\n",
      "File \u001B[1;32m~\\PycharmProjects\\newsense\\venv\\Lib\\site-packages\\fastcore\\transform.py:193\u001B[0m, in \u001B[0;36mPipeline.__init__\u001B[1;34m(self, funcs, split_idx)\u001B[0m\n\u001B[0;32m    191\u001B[0m \u001B[38;5;28;01mfor\u001B[39;00m f \u001B[38;5;129;01min\u001B[39;00m \u001B[38;5;28mself\u001B[39m\u001B[38;5;241m.\u001B[39mfs:\n\u001B[0;32m    192\u001B[0m     name \u001B[38;5;241m=\u001B[39m camel2snake(\u001B[38;5;28mtype\u001B[39m(f)\u001B[38;5;241m.\u001B[39m\u001B[38;5;18m__name__\u001B[39m)\n\u001B[1;32m--> 193\u001B[0m     a \u001B[38;5;241m=\u001B[39m \u001B[38;5;28mgetattr\u001B[39m(\u001B[38;5;28mself\u001B[39m,name,\u001B[38;5;28;01mNone\u001B[39;00m)\n\u001B[0;32m    194\u001B[0m     \u001B[38;5;28;01mif\u001B[39;00m a \u001B[38;5;129;01mis\u001B[39;00m \u001B[38;5;129;01mnot\u001B[39;00m \u001B[38;5;28;01mNone\u001B[39;00m: f \u001B[38;5;241m=\u001B[39m L(a)\u001B[38;5;241m+\u001B[39mf\n\u001B[0;32m    195\u001B[0m     \u001B[38;5;28msetattr\u001B[39m(\u001B[38;5;28mself\u001B[39m, name, f)\n",
      "File \u001B[1;32m~\\PycharmProjects\\newsense\\venv\\Lib\\site-packages\\fastcore\\transform.py:212\u001B[0m, in \u001B[0;36mPipeline.__getattr__\u001B[1;34m(self, k)\u001B[0m\n\u001B[1;32m--> 212\u001B[0m \u001B[38;5;28;01mdef\u001B[39;00m \u001B[38;5;21m__getattr__\u001B[39m(\u001B[38;5;28mself\u001B[39m,k): \u001B[38;5;28;01mreturn\u001B[39;00m \u001B[43mgather_attrs\u001B[49m\u001B[43m(\u001B[49m\u001B[38;5;28;43mself\u001B[39;49m\u001B[43m,\u001B[49m\u001B[43m \u001B[49m\u001B[43mk\u001B[49m\u001B[43m,\u001B[49m\u001B[43m \u001B[49m\u001B[38;5;124;43m'\u001B[39;49m\u001B[38;5;124;43mfs\u001B[39;49m\u001B[38;5;124;43m'\u001B[39;49m\u001B[43m)\u001B[49m\n",
      "File \u001B[1;32m~\\PycharmProjects\\newsense\\venv\\Lib\\site-packages\\fastcore\\transform.py:172\u001B[0m, in \u001B[0;36mgather_attrs\u001B[1;34m(o, k, nm)\u001B[0m\n\u001B[0;32m    170\u001B[0m \u001B[38;5;28;01mif\u001B[39;00m k\u001B[38;5;241m.\u001B[39mstartswith(\u001B[38;5;124m'\u001B[39m\u001B[38;5;124m_\u001B[39m\u001B[38;5;124m'\u001B[39m) \u001B[38;5;129;01mor\u001B[39;00m k\u001B[38;5;241m==\u001B[39mnm: \u001B[38;5;28;01mraise\u001B[39;00m \u001B[38;5;167;01mAttributeError\u001B[39;00m(k)\n\u001B[0;32m    171\u001B[0m att \u001B[38;5;241m=\u001B[39m \u001B[38;5;28mgetattr\u001B[39m(o,nm)\n\u001B[1;32m--> 172\u001B[0m res \u001B[38;5;241m=\u001B[39m [t \u001B[38;5;28;01mfor\u001B[39;00m t \u001B[38;5;129;01min\u001B[39;00m \u001B[43matt\u001B[49m\u001B[38;5;241;43m.\u001B[39;49m\u001B[43mattrgot\u001B[49m\u001B[43m(\u001B[49m\u001B[43mk\u001B[49m\u001B[43m)\u001B[49m \u001B[38;5;28;01mif\u001B[39;00m t \u001B[38;5;129;01mis\u001B[39;00m \u001B[38;5;129;01mnot\u001B[39;00m \u001B[38;5;28;01mNone\u001B[39;00m]\n\u001B[0;32m    173\u001B[0m \u001B[38;5;28;01mif\u001B[39;00m \u001B[38;5;129;01mnot\u001B[39;00m res: \u001B[38;5;28;01mraise\u001B[39;00m \u001B[38;5;167;01mAttributeError\u001B[39;00m(k)\n\u001B[0;32m    174\u001B[0m \u001B[38;5;28;01mreturn\u001B[39;00m res[\u001B[38;5;241m0\u001B[39m] \u001B[38;5;28;01mif\u001B[39;00m \u001B[38;5;28mlen\u001B[39m(res)\u001B[38;5;241m==\u001B[39m\u001B[38;5;241m1\u001B[39m \u001B[38;5;28;01melse\u001B[39;00m L(res)\n",
      "File \u001B[1;32m~\\PycharmProjects\\newsense\\venv\\Lib\\site-packages\\fastcore\\foundation.py:178\u001B[0m, in \u001B[0;36mL.attrgot\u001B[1;34m(self, k, default)\u001B[0m\n\u001B[0;32m    177\u001B[0m \u001B[38;5;28;01mdef\u001B[39;00m \u001B[38;5;21mattrgot\u001B[39m(\u001B[38;5;28mself\u001B[39m, k, default\u001B[38;5;241m=\u001B[39m\u001B[38;5;28;01mNone\u001B[39;00m):\n\u001B[1;32m--> 178\u001B[0m     \u001B[38;5;28;01mreturn\u001B[39;00m \u001B[38;5;28;43mself\u001B[39;49m\u001B[38;5;241;43m.\u001B[39;49m\u001B[43mmap\u001B[49m\u001B[43m(\u001B[49m\u001B[38;5;28;43;01mlambda\u001B[39;49;00m\u001B[43m \u001B[49m\u001B[43mo\u001B[49m\u001B[43m:\u001B[49m\u001B[43m \u001B[49m\u001B[43mo\u001B[49m\u001B[38;5;241;43m.\u001B[39;49m\u001B[43mget\u001B[49m\u001B[43m(\u001B[49m\u001B[43mk\u001B[49m\u001B[43m,\u001B[49m\u001B[43mdefault\u001B[49m\u001B[43m)\u001B[49m\u001B[43m \u001B[49m\u001B[38;5;28;43;01mif\u001B[39;49;00m\u001B[43m \u001B[49m\u001B[38;5;28;43misinstance\u001B[39;49m\u001B[43m(\u001B[49m\u001B[43mo\u001B[49m\u001B[43m,\u001B[49m\u001B[43m \u001B[49m\u001B[38;5;28;43mdict\u001B[39;49m\u001B[43m)\u001B[49m\u001B[43m \u001B[49m\u001B[38;5;28;43;01melse\u001B[39;49;00m\u001B[43m \u001B[49m\u001B[43mnested_attr\u001B[49m\u001B[43m(\u001B[49m\u001B[43mo\u001B[49m\u001B[43m,\u001B[49m\u001B[43mk\u001B[49m\u001B[43m,\u001B[49m\u001B[43mdefault\u001B[49m\u001B[43m)\u001B[49m\u001B[43m)\u001B[49m\n",
      "File \u001B[1;32m~\\PycharmProjects\\newsense\\venv\\Lib\\site-packages\\fastcore\\foundation.py:156\u001B[0m, in \u001B[0;36mL.map\u001B[1;34m(self, f, *args, **kwargs)\u001B[0m\n\u001B[1;32m--> 156\u001B[0m \u001B[38;5;28;01mdef\u001B[39;00m \u001B[38;5;21mmap\u001B[39m(\u001B[38;5;28mself\u001B[39m, f, \u001B[38;5;241m*\u001B[39margs, \u001B[38;5;241m*\u001B[39m\u001B[38;5;241m*\u001B[39mkwargs): \u001B[38;5;28;01mreturn\u001B[39;00m \u001B[38;5;28mself\u001B[39m\u001B[38;5;241m.\u001B[39m_new(\u001B[43mmap_ex\u001B[49m\u001B[43m(\u001B[49m\u001B[38;5;28;43mself\u001B[39;49m\u001B[43m,\u001B[49m\u001B[43m \u001B[49m\u001B[43mf\u001B[49m\u001B[43m,\u001B[49m\u001B[43m \u001B[49m\u001B[38;5;241;43m*\u001B[39;49m\u001B[43margs\u001B[49m\u001B[43m,\u001B[49m\u001B[43m \u001B[49m\u001B[43mgen\u001B[49m\u001B[38;5;241;43m=\u001B[39;49m\u001B[38;5;28;43;01mFalse\u001B[39;49;00m\u001B[43m,\u001B[49m\u001B[43m \u001B[49m\u001B[38;5;241;43m*\u001B[39;49m\u001B[38;5;241;43m*\u001B[39;49m\u001B[43mkwargs\u001B[49m\u001B[43m)\u001B[49m)\n",
      "File \u001B[1;32m~\\PycharmProjects\\newsense\\venv\\Lib\\site-packages\\fastcore\\basics.py:840\u001B[0m, in \u001B[0;36mmap_ex\u001B[1;34m(iterable, f, gen, *args, **kwargs)\u001B[0m\n\u001B[0;32m    838\u001B[0m res \u001B[38;5;241m=\u001B[39m \u001B[38;5;28mmap\u001B[39m(g, iterable)\n\u001B[0;32m    839\u001B[0m \u001B[38;5;28;01mif\u001B[39;00m gen: \u001B[38;5;28;01mreturn\u001B[39;00m res\n\u001B[1;32m--> 840\u001B[0m \u001B[38;5;28;01mreturn\u001B[39;00m \u001B[38;5;28mlist\u001B[39m(res)\n",
      "File \u001B[1;32m~\\PycharmProjects\\newsense\\venv\\Lib\\site-packages\\fastcore\\basics.py:822\u001B[0m, in \u001B[0;36mbind.__call__\u001B[1;34m(self, *args, **kwargs)\u001B[0m\n\u001B[0;32m    820\u001B[0m args \u001B[38;5;241m=\u001B[39m \u001B[38;5;28mlist\u001B[39m(args)\n\u001B[0;32m    821\u001B[0m kwargs \u001B[38;5;241m=\u001B[39m {\u001B[38;5;241m*\u001B[39m\u001B[38;5;241m*\u001B[39m\u001B[38;5;28mself\u001B[39m\u001B[38;5;241m.\u001B[39mpkwargs,\u001B[38;5;241m*\u001B[39m\u001B[38;5;241m*\u001B[39mkwargs}\n\u001B[1;32m--> 822\u001B[0m \u001B[38;5;28;01mfor\u001B[39;00m k,v \u001B[38;5;129;01min\u001B[39;00m kwargs\u001B[38;5;241m.\u001B[39mitems():\n\u001B[0;32m    823\u001B[0m     \u001B[38;5;28;01mif\u001B[39;00m \u001B[38;5;28misinstance\u001B[39m(v,_Arg): kwargs[k] \u001B[38;5;241m=\u001B[39m args\u001B[38;5;241m.\u001B[39mpop(v\u001B[38;5;241m.\u001B[39mi)\n\u001B[0;32m    824\u001B[0m fargs \u001B[38;5;241m=\u001B[39m [args[x\u001B[38;5;241m.\u001B[39mi] \u001B[38;5;28;01mif\u001B[39;00m \u001B[38;5;28misinstance\u001B[39m(x, _Arg) \u001B[38;5;28;01melse\u001B[39;00m x \u001B[38;5;28;01mfor\u001B[39;00m x \u001B[38;5;129;01min\u001B[39;00m \u001B[38;5;28mself\u001B[39m\u001B[38;5;241m.\u001B[39mpargs] \u001B[38;5;241m+\u001B[39m args[\u001B[38;5;28mself\u001B[39m\u001B[38;5;241m.\u001B[39mmaxi\u001B[38;5;241m+\u001B[39m\u001B[38;5;241m1\u001B[39m:]\n",
      "\u001B[1;31mKeyboardInterrupt\u001B[0m: "
     ]
    }
   ],
   "source": [
    "blocks = (HF_Seq2SeqBlock(before_batch_tfm=hf_batch_tfm), noop)\n",
    "x = Pipeline(dataset[\"document\"], dataset[\"summary\"])\n",
    "dblock = DataBlock(blocks=blocks, get_x=x, splitter=RandomSplitter())\n",
    "dls = dblock.dataloaders(dataset, bs=2)"
   ],
   "metadata": {
    "collapsed": false
   }
  },
  {
   "cell_type": "code",
   "execution_count": null,
   "outputs": [],
   "source": [
    "seq2seq_metrics = {\n",
    "        'rouge': {\n",
    "            'compute_kwargs': { 'rouge_types': [\"rouge1\", \"rouge2\", \"rougeL\"], 'use_stemmer': True },\n",
    "            'returns': [\"rouge1\", \"rouge2\", \"rougeL\"]\n",
    "        },\n",
    "        'bertscore': {\n",
    "            'compute_kwargs': { 'lang': 'fr' },\n",
    "            'returns': [\"precision\", \"recall\", \"f1\"]}}\n",
    "\n",
    "model = HF_BaseModelWrapper(hf_model)\n",
    "learn_cbs = [HF_BaseModelCallback]\n",
    "fit_cbs = [HF_Seq2SeqMetricsCallback(custom_metrics=seq2seq_metrics)]"
   ],
   "metadata": {
    "collapsed": false
   }
  },
  {
   "cell_type": "code",
   "execution_count": null,
   "outputs": [],
   "source": [
    "learn = Learner(dls, model,\n",
    "                opt_func=ranger,loss_func=CrossEntropyLossFlat(),\n",
    "                cbs=learn_cbs,splitter=partial(seq2seq_splitter, arch=hf_arch)).to_fp16()\n",
    "\n",
    "learn.create_opt()\n",
    "learn.freeze()\n",
    "\n",
    "learn.fit_one_cycle(3, lr_max=3e-5, cbs=fit_cbs)"
   ],
   "metadata": {
    "collapsed": false,
    "ExecuteTime": {
     "start_time": "2023-05-07T13:27:03.537882Z",
     "end_time": "2023-05-07T13:27:03.543943Z"
    }
   }
  },
  {
   "cell_type": "code",
   "execution_count": null,
   "outputs": [],
   "source": [
    "learn.save('../finetuned-bart_large_cnn')"
   ],
   "metadata": {
    "collapsed": false
   }
  }
 ],
 "metadata": {
  "kernelspec": {
   "display_name": "Python 3",
   "language": "python",
   "name": "python3"
  },
  "language_info": {
   "codemirror_mode": {
    "name": "ipython",
    "version": 2
   },
   "file_extension": ".py",
   "mimetype": "text/x-python",
   "name": "python",
   "nbconvert_exporter": "python",
   "pygments_lexer": "ipython2",
   "version": "2.7.6"
  }
 },
 "nbformat": 4,
 "nbformat_minor": 0
}
