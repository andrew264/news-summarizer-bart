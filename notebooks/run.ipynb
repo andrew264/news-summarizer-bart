{
 "cells": [
  {
   "cell_type": "code",
   "execution_count": null,
   "outputs": [],
   "source": [
    "import tensorflow as tf"
   ],
   "metadata": {
    "collapsed": false
   }
  },
  {
   "cell_type": "code",
   "execution_count": null,
   "outputs": [],
   "source": [
    "# limit the GPU memory growth\n",
    "gpu = tf.config.list_physical_devices('GPU')\n",
    "print(\"Num GPUs Available: \", len(gpu))\n",
    "if len(gpu) > 0:\n",
    "    tf.config.experimental.set_memory_growth(gpu[0], True)"
   ],
   "metadata": {
    "collapsed": false
   }
  },
  {
   "cell_type": "code",
   "execution_count": null,
   "outputs": [],
   "source": [
    "from pathlib import Path\n",
    "from transformers import BartConfig, BartTokenizer, TFBartForConditionalGeneration\n",
    "\n",
    "model_path = Path('bart_large_cnn')\n",
    "\n",
    "def load_tokenizer():\n",
    "    tokenizer = BartTokenizer.from_pretrained(str(model_path))\n",
    "    config = BartConfig.from_pretrained(str(model_path))\n",
    "    config.output_hidden_states = True\n",
    "    return tokenizer, config\n",
    "\n",
    "def load_model(config):\n",
    "    model = TFBartForConditionalGeneration.from_pretrained(model_path, config=config)\n",
    "    return model"
   ],
   "metadata": {
    "collapsed": false
   }
  },
  {
   "cell_type": "code",
   "execution_count": null,
   "outputs": [],
   "source": [
    "tokenizer, config = load_tokenizer()\n",
    "model = load_model(config)"
   ],
   "metadata": {
    "collapsed": false
   }
  },
  {
   "cell_type": "code",
   "execution_count": null,
   "outputs": [],
   "source": [
    "sample = \"The tower is 324 metres (1,063 ft) tall, about the same height as an 81-storey building, and the tallest structure in Paris. Its base is square, measuring 125 metres (410 ft) on each side. During its construction, the Eiffel Tower surpassed the Washington Monument to become the tallest man-made structure in the world, a title it held for 41 years until the Chrysler Building in New York City was finished in 1930. It was the first structure to reach a height of 300 metres. Due to the addition of a broadcasting aerial at the top of the tower in 1957, it is now taller than the Chrysler Building by 5.2 metres (17 ft). Excluding transmitters, the Eiffel Tower is the second tallest free-standing structure in France after the Millau Viaduct.\"\n"
   ],
   "metadata": {
    "collapsed": false
   }
  },
  {
   "cell_type": "code",
   "execution_count": null,
   "outputs": [],
   "source": [
    "from transformers import SummarizationPipeline\n",
    "\n",
    "generator = SummarizationPipeline(model=model, tokenizer=tokenizer, framework='tf', device=0)"
   ],
   "metadata": {
    "collapsed": false
   }
  },
  {
   "cell_type": "code",
   "execution_count": null,
   "outputs": [],
   "source": [
    "outputs = generator(sample, max_length=100, num_return_sequences=5, num_beams=5)\n",
    "\n",
    "for i, output in enumerate(outputs):\n",
    "    print(\"{}: {} \\n\\n\".format(i+1, output['summary_text']))"
   ],
   "metadata": {
    "collapsed": false
   }
  },
  {
   "cell_type": "code",
   "execution_count": null,
   "outputs": [],
   "source": [],
   "metadata": {
    "collapsed": false
   }
  }
 ],
 "metadata": {
  "kernelspec": {
   "display_name": "Python 3",
   "language": "python",
   "name": "python3"
  },
  "language_info": {
   "codemirror_mode": {
    "name": "ipython",
    "version": 2
   },
   "file_extension": ".py",
   "mimetype": "text/x-python",
   "name": "python",
   "nbconvert_exporter": "python",
   "pygments_lexer": "ipython2",
   "version": "2.7.6"
  }
 },
 "nbformat": 4,
 "nbformat_minor": 0
}
