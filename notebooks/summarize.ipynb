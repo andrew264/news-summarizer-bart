{
 "cells": [
  {
   "cell_type": "code",
   "execution_count": null,
   "metadata": {},
   "outputs": [],
   "source": [
    "from pathlib import Path\n",
    "from transformers import BartConfig, BartTokenizer, BartForConditionalGeneration\n",
    "\n",
    "model_path = Path('../bart_large_cnn')\n",
    "\n",
    "def load_tokenizer():\n",
    "    tokenizer = BartTokenizer.from_pretrained(str(model_path))\n",
    "    config = BartConfig.from_pretrained(str(model_path))\n",
    "    config.output_hidden_states = True\n",
    "    return tokenizer, config\n",
    "\n",
    "def load_model(config):\n",
    "    model = BartForConditionalGeneration.from_pretrained(model_path, config=config)\n",
    "    model = model.cuda()\n",
    "    return model"
   ]
  },
  {
   "cell_type": "code",
   "execution_count": null,
   "metadata": {},
   "outputs": [],
   "source": [
    "tokenizer, config = load_tokenizer()\n",
    "model = load_model(config)"
   ]
  },
  {
   "cell_type": "code",
   "execution_count": null,
   "metadata": {},
   "outputs": [],
   "source": [
    "import torch\n",
    "\n",
    "with open(\"test.txt\", \"r\") as f:\n",
    "    sample = f.read()\n",
    "\n",
    "print(len(sample.split()), ' words')\n",
    "\n",
    "sentences = sample.split(\". \")\n",
    "concatenated = []\n",
    "\n",
    "for sentence in sentences:\n",
    "    words = sentence.split()\n",
    "    if not concatenated:\n",
    "        concatenated.append(sentence)\n",
    "    elif len(concatenated[-1].split()) + len(words) < 720:\n",
    "        concatenated[-1] += \". \" + sentence\n",
    "    else:\n",
    "        concatenated.append(sentence)\n",
    "\n",
    "for i, sentence in enumerate(concatenated):\n",
    "    print(i, len(sentence.split()))\n",
    "\n",
    "device = \"cuda:0\" if torch.cuda.is_available() else \"cpu\"\n",
    "inputs = tokenizer(concatenated, max_length=1024, return_tensors=\"pt\", padding=\"max_length\", truncation=True, ).to(device)"
   ]
  },
  {
   "cell_type": "code",
   "execution_count": null,
   "metadata": {},
   "outputs": [],
   "source": [
    "from datetime import datetime\n",
    "\n",
    "time_start = datetime.now()\n",
    "summary_ids = model.generate(inputs[\"input_ids\"], num_beams=2, min_length=12, max_length=72, early_stopping=True)\n",
    "outputs = tokenizer.batch_decode(summary_ids, skip_special_tokens=True, clean_up_tokenization_spaces=False)\n",
    "time_end = datetime.now()\n",
    "print('Time cost: ', (time_end - time_start).seconds, ' seconds')\n",
    "\n",
    "for i, output in enumerate(outputs):\n",
    "    print(\"{}: {} \\n\\n\".format(i+1, output))"
   ]
  },
  {
   "cell_type": "code",
   "execution_count": null,
   "metadata": {},
   "outputs": [],
   "source": []
  }
 ],
 "metadata": {
  "kernelspec": {
   "display_name": "Python 3 (ipykernel)",
   "language": "python",
   "name": "python3"
  },
  "language_info": {
   "codemirror_mode": {
    "name": "ipython",
    "version": 3
   },
   "file_extension": ".py",
   "mimetype": "text/x-python",
   "name": "python",
   "nbconvert_exporter": "python",
   "pygments_lexer": "ipython3",
   "version": "3.10.0"
  }
 },
 "nbformat": 4,
 "nbformat_minor": 1
}
