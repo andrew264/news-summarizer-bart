{
 "cells": [
  {
   "cell_type": "code",
   "execution_count": null,
   "metadata": {},
   "outputs": [],
   "source": [
    "import tensorflow as tf"
   ]
  },
  {
   "cell_type": "code",
   "execution_count": null,
   "metadata": {},
   "outputs": [],
   "source": [
    "# limit the GPU memory growth\n",
    "gpu = tf.config.list_physical_devices('GPU')\n",
    "print(\"Num GPUs Available: \", len(gpu))\n",
    "if len(gpu) > 0:\n",
    "    tf.config.experimental.set_memory_growth(gpu[0], True)"
   ]
  },
  {
   "cell_type": "code",
   "execution_count": null,
   "metadata": {},
   "outputs": [],
   "source": [
    "from pathlib import Path\n",
    "from transformers import BartConfig, BartTokenizer, TFBartForConditionalGeneration\n",
    "\n",
    "model_path = Path('../bart_large_cnn')\n",
    "\n",
    "def load_tokenizer():\n",
    "    tokenizer = BartTokenizer.from_pretrained(str(model_path))\n",
    "    config = BartConfig.from_pretrained(str(model_path))\n",
    "    config.output_hidden_states = True\n",
    "    return tokenizer, config\n",
    "\n",
    "def load_model(config):\n",
    "    model = TFBartForConditionalGeneration.from_pretrained(model_path, config=config)\n",
    "    return model"
   ]
  },
  {
   "cell_type": "code",
   "execution_count": null,
   "metadata": {},
   "outputs": [],
   "source": [
    "tokenizer, config = load_tokenizer()\n",
    "model = load_model(config)"
   ]
  },
  {
   "cell_type": "code",
   "execution_count": null,
   "metadata": {},
   "outputs": [],
   "source": [
    "sample = \"\"\"...\"\"\"\n",
    "print(len(sample.split()), ' words')\n",
    "\n",
    "sentences = sample.split(\". \")\n",
    "concatenated = []\n",
    "\n",
    "for sentence in sentences:\n",
    "    words = sentence.split()\n",
    "    if not concatenated:\n",
    "        concatenated.append(sentence)\n",
    "    elif len(concatenated[-1].split()) + len(words) < 640:\n",
    "        concatenated[-1] += \". \" + sentence\n",
    "    else:\n",
    "        concatenated.append(sentence)\n",
    "\n",
    "for i, sentence in enumerate(concatenated):\n",
    "    print(i, len(sentence.split()))"
   ]
  },
  {
   "cell_type": "code",
   "execution_count": null,
   "metadata": {},
   "outputs": [],
   "source": [
    "from transformers import SummarizationPipeline\n",
    "\n",
    "generator = SummarizationPipeline(model=model, tokenizer=tokenizer, framework='tf', device=0, batch_size=8)"
   ]
  },
  {
   "cell_type": "code",
   "execution_count": null,
   "metadata": {},
   "outputs": [],
   "source": [
    "from datetime import datetime\n",
    "\n",
    "time_start = datetime.now()\n",
    "outputs = generator(concatenated, num_return_sequences=1, num_beams=1, top_k=50)\n",
    "time_end = datetime.now()\n",
    "print('Time cost: ', (time_end - time_start).seconds, ' seconds')\n",
    "\n",
    "for i, output in enumerate(outputs):\n",
    "    print(\"{}: {} \\n\\n\".format(i+1, output['summary_text']))"
   ]
  },
  {
   "cell_type": "code",
   "execution_count": null,
   "metadata": {},
   "outputs": [],
   "source": []
  }
 ],
 "metadata": {
  "kernelspec": {
   "display_name": "Python 3 (ipykernel)",
   "language": "python",
   "name": "python3"
  },
  "language_info": {
   "codemirror_mode": {
    "name": "ipython",
    "version": 3
   },
   "file_extension": ".py",
   "mimetype": "text/x-python",
   "name": "python",
   "nbconvert_exporter": "python",
   "pygments_lexer": "ipython3",
   "version": "3.10.0"
  }
 },
 "nbformat": 4,
 "nbformat_minor": 1
}
